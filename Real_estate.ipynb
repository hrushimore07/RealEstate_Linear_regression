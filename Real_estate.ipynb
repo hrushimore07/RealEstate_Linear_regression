{
 "cells": [
  {
   "cell_type": "code",
   "execution_count": 1,
   "id": "d6360934",
   "metadata": {},
   "outputs": [],
   "source": [
    "import pandas as pd\n",
    "import numpy as np\n",
    "\n",
    "import statsmodels\n",
    "from statsmodels.stats.anova import anova_lm\n",
    "from statsmodels.stats.outliers_influence import variance_inflation_factor\n",
    "\n",
    "import seaborn as sns\n",
    "from matplotlib import pyplot as plt\n",
    "%matplotlib inline"
   ]
  },
  {
   "cell_type": "code",
   "execution_count": 2,
   "id": "1c1466b2",
   "metadata": {},
   "outputs": [
    {
     "data": {
      "text/html": [
       "<div>\n",
       "<style scoped>\n",
       "    .dataframe tbody tr th:only-of-type {\n",
       "        vertical-align: middle;\n",
       "    }\n",
       "\n",
       "    .dataframe tbody tr th {\n",
       "        vertical-align: top;\n",
       "    }\n",
       "\n",
       "    .dataframe thead th {\n",
       "        text-align: right;\n",
       "    }\n",
       "</style>\n",
       "<table border=\"1\" class=\"dataframe\">\n",
       "  <thead>\n",
       "    <tr style=\"text-align: right;\">\n",
       "      <th></th>\n",
       "      <th>No</th>\n",
       "      <th>transaction_date</th>\n",
       "      <th>house_age</th>\n",
       "      <th>distance_to_the_nearest_MRT_station</th>\n",
       "      <th>number_of_convenience_stores</th>\n",
       "      <th>latitude</th>\n",
       "      <th>longitude</th>\n",
       "      <th>house_price</th>\n",
       "    </tr>\n",
       "  </thead>\n",
       "  <tbody>\n",
       "    <tr>\n",
       "      <th>0</th>\n",
       "      <td>1</td>\n",
       "      <td>2013</td>\n",
       "      <td>32.0</td>\n",
       "      <td>84.87882</td>\n",
       "      <td>10</td>\n",
       "      <td>24.98298</td>\n",
       "      <td>121.54024</td>\n",
       "      <td>37.9</td>\n",
       "    </tr>\n",
       "    <tr>\n",
       "      <th>1</th>\n",
       "      <td>2</td>\n",
       "      <td>2013</td>\n",
       "      <td>19.5</td>\n",
       "      <td>306.59470</td>\n",
       "      <td>9</td>\n",
       "      <td>24.98034</td>\n",
       "      <td>121.53951</td>\n",
       "      <td>42.2</td>\n",
       "    </tr>\n",
       "    <tr>\n",
       "      <th>2</th>\n",
       "      <td>3</td>\n",
       "      <td>2014</td>\n",
       "      <td>13.3</td>\n",
       "      <td>561.98450</td>\n",
       "      <td>5</td>\n",
       "      <td>24.98746</td>\n",
       "      <td>121.54391</td>\n",
       "      <td>47.3</td>\n",
       "    </tr>\n",
       "    <tr>\n",
       "      <th>3</th>\n",
       "      <td>4</td>\n",
       "      <td>2014</td>\n",
       "      <td>13.3</td>\n",
       "      <td>561.98450</td>\n",
       "      <td>5</td>\n",
       "      <td>24.98746</td>\n",
       "      <td>121.54391</td>\n",
       "      <td>54.8</td>\n",
       "    </tr>\n",
       "    <tr>\n",
       "      <th>4</th>\n",
       "      <td>5</td>\n",
       "      <td>2013</td>\n",
       "      <td>5.0</td>\n",
       "      <td>390.56840</td>\n",
       "      <td>5</td>\n",
       "      <td>24.97937</td>\n",
       "      <td>121.54245</td>\n",
       "      <td>43.1</td>\n",
       "    </tr>\n",
       "  </tbody>\n",
       "</table>\n",
       "</div>"
      ],
      "text/plain": [
       "   No  transaction_date  house_age  distance_to_the_nearest_MRT_station  \\\n",
       "0   1              2013       32.0                             84.87882   \n",
       "1   2              2013       19.5                            306.59470   \n",
       "2   3              2014       13.3                            561.98450   \n",
       "3   4              2014       13.3                            561.98450   \n",
       "4   5              2013        5.0                            390.56840   \n",
       "\n",
       "   number_of_convenience_stores  latitude  longitude  house_price  \n",
       "0                            10  24.98298  121.54024         37.9  \n",
       "1                             9  24.98034  121.53951         42.2  \n",
       "2                             5  24.98746  121.54391         47.3  \n",
       "3                             5  24.98746  121.54391         54.8  \n",
       "4                             5  24.97937  121.54245         43.1  "
      ]
     },
     "execution_count": 2,
     "metadata": {},
     "output_type": "execute_result"
    }
   ],
   "source": [
    "new = pd.read_csv(r\"C:\\Users\\Owner\\Desktop\\MachineLearning\\Real estate.csv\")\n",
    "new.head()"
   ]
  },
  {
   "cell_type": "code",
   "execution_count": 3,
   "id": "0479ad32",
   "metadata": {},
   "outputs": [
    {
     "name": "stdout",
     "output_type": "stream",
     "text": [
      "<class 'pandas.core.frame.DataFrame'>\n",
      "RangeIndex: 414 entries, 0 to 413\n",
      "Data columns (total 8 columns):\n",
      " #   Column                               Non-Null Count  Dtype  \n",
      "---  ------                               --------------  -----  \n",
      " 0   No                                   414 non-null    int64  \n",
      " 1   transaction_date                     414 non-null    int64  \n",
      " 2   house_age                            414 non-null    float64\n",
      " 3   distance_to_the_nearest_MRT_station  414 non-null    float64\n",
      " 4   number_of_convenience_stores         414 non-null    int64  \n",
      " 5   latitude                             414 non-null    float64\n",
      " 6   longitude                            414 non-null    float64\n",
      " 7   house_price                          414 non-null    float64\n",
      "dtypes: float64(5), int64(3)\n",
      "memory usage: 26.0 KB\n"
     ]
    }
   ],
   "source": [
    "new.info()"
   ]
  },
  {
   "cell_type": "raw",
   "id": "1e01bb08",
   "metadata": {},
   "source": [
    "new.describe()"
   ]
  },
  {
   "cell_type": "code",
   "execution_count": 4,
   "id": "e4900c62",
   "metadata": {},
   "outputs": [
    {
     "data": {
      "text/plain": [
       "2013.0"
      ]
     },
     "execution_count": 4,
     "metadata": {},
     "output_type": "execute_result"
    }
   ],
   "source": [
    "q1 = new['transaction_date'].quantile(0.25)\n",
    "q3 = new['transaction_date'].quantile(0.75)\n",
    "iqr = q3 - q1\n",
    "upper_limit = q3 + 1.5*iqr\n",
    "upper_limit"
   ]
  },
  {
   "cell_type": "code",
   "execution_count": 5,
   "id": "126ae2ae",
   "metadata": {},
   "outputs": [],
   "source": [
    "new['transaction_date']=np.where(new['transaction_date']> upper_limit,upper_limit,new['transaction_date'])"
   ]
  },
  {
   "cell_type": "code",
   "execution_count": 6,
   "id": "5b640fcf",
   "metadata": {},
   "outputs": [
    {
     "data": {
      "text/plain": [
       "<AxesSubplot:>"
      ]
     },
     "execution_count": 6,
     "metadata": {},
     "output_type": "execute_result"
    },
    {
     "data": {
      "image/png": "[encoded data removed]",
      "text/plain": [
       "<Figure size 432x288 with 1 Axes>"
      ]
     },
     "metadata": {
      "needs_background": "light"
     },
     "output_type": "display_data"
    }
   ],
   "source": [
    "sns.boxplot(data=new['distance_to_the_nearest_MRT_station'])"
   ]
  },
  {
   "cell_type": "code",
   "execution_count": 7,
   "id": "6a69fc55",
   "metadata": {},
   "outputs": [
    {
     "data": {
      "text/plain": [
       "3201.7103"
      ]
     },
     "execution_count": 7,
     "metadata": {},
     "output_type": "execute_result"
    }
   ],
   "source": [
    "q1 = new['distance_to_the_nearest_MRT_station'].quantile(0.25)\n",
    "q3 = new['distance_to_the_nearest_MRT_station'].quantile(0.75)\n",
    "iqr = q3 - q1\n",
    "upper_limit = q3 + 1.5*iqr\n",
    "upper_limit"
   ]
  },
  {
   "cell_type": "code",
   "execution_count": 8,
   "id": "2c71eb32",
   "metadata": {},
   "outputs": [],
   "source": [
    "new['distance_to_the_nearest_MRT_station']=np.where(new['distance_to_the_nearest_MRT_station']> upper_limit,upper_limit,new['distance_to_the_nearest_MRT_station'])"
   ]
  },
  {
   "cell_type": "code",
   "execution_count": 9,
   "id": "1c46fb39",
   "metadata": {},
   "outputs": [
    {
     "data": {
      "text/plain": [
       "<AxesSubplot:>"
      ]
     },
     "execution_count": 9,
     "metadata": {},
     "output_type": "execute_result"
    },
    {
     "data": {
      "image/png": "[encoded data removed]",
      "text/plain": [
       "<Figure size 432x288 with 1 Axes>"
      ]
     },
     "metadata": {
      "needs_background": "light"
     },
     "output_type": "display_data"
    }
   ],
   "source": [
    "sns.boxplot(data=new['latitude'])"
   ]
  },
  {
   "cell_type": "code",
   "execution_count": 10,
   "id": "8cea9f8f",
   "metadata": {},
   "outputs": [
    {
     "name": "stdout",
     "output_type": "stream",
     "text": [
      "24.999137499999996\n",
      "24.955772500000002\n"
     ]
    }
   ],
   "source": [
    "q1 = new['latitude'].quantile(0.25)\n",
    "q3 = new['latitude'].quantile(0.75)\n",
    "iqr = q3 - q1\n",
    "upper_limit = q3 + 1.5*iqr\n",
    "print(upper_limit)\n",
    "lower_limit= q3 - 1.5*iqr\n",
    "print(lower_limit)\n"
   ]
  },
  {
   "cell_type": "code",
   "execution_count": 11,
   "id": "f8f4c926",
   "metadata": {},
   "outputs": [],
   "source": [
    "new['latitude']=np.where(new['latitude']> upper_limit,upper_limit,new['latitude'])\n",
    "new['latitude']=np.where(new['latitude']< lower_limit,lower_limit,new['latitude'])"
   ]
  },
  {
   "cell_type": "code",
   "execution_count": 12,
   "id": "976c0064",
   "metadata": {},
   "outputs": [
    {
     "data": {
      "text/plain": [
       "<AxesSubplot:>"
      ]
     },
     "execution_count": 12,
     "metadata": {},
     "output_type": "execute_result"
    },
    {
     "data": {
      "image/png": "[encoded data removed]",
      "text/plain": [
       "<Figure size 432x288 with 1 Axes>"
      ]
     },
     "metadata": {
      "needs_background": "light"
     },
     "output_type": "display_data"
    }
   ],
   "source": [
    "sns.boxplot(data=new['longitude'])"
   ]
  },
  {
   "cell_type": "code",
   "execution_count": 13,
   "id": "5132ea14",
   "metadata": {},
   "outputs": [
    {
     "name": "stdout",
     "output_type": "stream",
     "text": [
      "121.566135\n",
      "121.520475\n"
     ]
    }
   ],
   "source": [
    "q1 = new['longitude'].quantile(0.25)\n",
    "q3 = new['longitude'].quantile(0.75)\n",
    "iqr = q3 - q1\n",
    "upper_limit = q3 + 1.5*iqr\n",
    "print(upper_limit)\n",
    "lower_limit= q3 - 1.5*iqr\n",
    "print(lower_limit)"
   ]
  },
  {
   "cell_type": "code",
   "execution_count": 14,
   "id": "a88867c5",
   "metadata": {},
   "outputs": [],
   "source": [
    "new['longitude']=np.where(new['longitude']> upper_limit,upper_limit,new['longitude'])\n",
    "new['longitude']=np.where(new['longitude']< lower_limit,lower_limit,new['longitude'])"
   ]
  },
  {
   "cell_type": "code",
   "execution_count": 15,
   "id": "b202da77",
   "metadata": {},
   "outputs": [
    {
     "data": {
      "text/plain": [
       "<AxesSubplot:>"
      ]
     },
     "execution_count": 15,
     "metadata": {},
     "output_type": "execute_result"
    },
    {
     "data": {
      "image/png": "[encoded data removed]",
      "text/plain": [
       "<Figure size 432x288 with 1 Axes>"
      ]
     },
     "metadata": {
      "needs_background": "light"
     },
     "output_type": "display_data"
    }
   ],
   "source": [
    "sns.boxplot(data=new['house_price'])"
   ]
  },
  {
   "cell_type": "code",
   "execution_count": 16,
   "id": "362afce9",
   "metadata": {},
   "outputs": [
    {
     "data": {
      "text/plain": [
       "74.95"
      ]
     },
     "execution_count": 16,
     "metadata": {},
     "output_type": "execute_result"
    }
   ],
   "source": [
    "q1 = new['house_price'].quantile(0.25)\n",
    "q3 = new['house_price'].quantile(0.75)\n",
    "iqr = q3 - q1\n",
    "upper_limit = q3 + 1.5*iqr\n",
    "upper_limit"
   ]
  },
  {
   "cell_type": "code",
   "execution_count": 17,
   "id": "98f2fa02",
   "metadata": {},
   "outputs": [],
   "source": [
    "new['house_price']=np.where(new['house_price']> upper_limit,upper_limit,new['house_price'])"
   ]
  },
  {
   "cell_type": "code",
   "execution_count": 18,
   "id": "b66634e9",
   "metadata": {},
   "outputs": [
    {
     "data": {
      "text/plain": [
       "<AxesSubplot:>"
      ]
     },
     "execution_count": 18,
     "metadata": {},
     "output_type": "execute_result"
    },
    {
     "data": {
      "image/png": "[encoded data removed]",
      "text/plain": [
       "<Figure size 432x288 with 1 Axes>"
      ]
     },
     "metadata": {
      "needs_background": "light"
     },
     "output_type": "display_data"
    }
   ],
   "source": [
    "sns.boxplot(data=new['distance_to_the_nearest_MRT_station'])"
   ]
  },
  {
   "cell_type": "code",
   "execution_count": 19,
   "id": "71407895",
   "metadata": {},
   "outputs": [
    {
     "data": {
      "text/html": [
       "<div>\n",
       "<style scoped>\n",
       "    .dataframe tbody tr th:only-of-type {\n",
       "        vertical-align: middle;\n",
       "    }\n",
       "\n",
       "    .dataframe tbody tr th {\n",
       "        vertical-align: top;\n",
       "    }\n",
       "\n",
       "    .dataframe thead th {\n",
       "        text-align: right;\n",
       "    }\n",
       "</style>\n",
       "<table border=\"1\" class=\"dataframe\">\n",
       "  <thead>\n",
       "    <tr style=\"text-align: right;\">\n",
       "      <th></th>\n",
       "      <th>No</th>\n",
       "      <th>transaction_date</th>\n",
       "      <th>house_age</th>\n",
       "      <th>distance_to_the_nearest_MRT_station</th>\n",
       "      <th>number_of_convenience_stores</th>\n",
       "      <th>latitude</th>\n",
       "      <th>longitude</th>\n",
       "      <th>house_price</th>\n",
       "    </tr>\n",
       "  </thead>\n",
       "  <tbody>\n",
       "    <tr>\n",
       "      <th>count</th>\n",
       "      <td>414.000000</td>\n",
       "      <td>414.0</td>\n",
       "      <td>414.000000</td>\n",
       "      <td>414.000000</td>\n",
       "      <td>414.000000</td>\n",
       "      <td>414.000000</td>\n",
       "      <td>414.000000</td>\n",
       "      <td>414.000000</td>\n",
       "    </tr>\n",
       "    <tr>\n",
       "      <th>mean</th>\n",
       "      <td>207.500000</td>\n",
       "      <td>2013.0</td>\n",
       "      <td>17.712560</td>\n",
       "      <td>974.545851</td>\n",
       "      <td>4.094203</td>\n",
       "      <td>24.970246</td>\n",
       "      <td>121.536080</td>\n",
       "      <td>37.861957</td>\n",
       "    </tr>\n",
       "    <tr>\n",
       "      <th>std</th>\n",
       "      <td>119.655756</td>\n",
       "      <td>0.0</td>\n",
       "      <td>11.392485</td>\n",
       "      <td>968.915855</td>\n",
       "      <td>2.945562</td>\n",
       "      <td>0.010037</td>\n",
       "      <td>0.010179</td>\n",
       "      <td>13.112035</td>\n",
       "    </tr>\n",
       "    <tr>\n",
       "      <th>min</th>\n",
       "      <td>1.000000</td>\n",
       "      <td>2013.0</td>\n",
       "      <td>0.000000</td>\n",
       "      <td>23.382840</td>\n",
       "      <td>0.000000</td>\n",
       "      <td>24.955773</td>\n",
       "      <td>121.520475</td>\n",
       "      <td>7.600000</td>\n",
       "    </tr>\n",
       "    <tr>\n",
       "      <th>25%</th>\n",
       "      <td>104.250000</td>\n",
       "      <td>2013.0</td>\n",
       "      <td>9.025000</td>\n",
       "      <td>289.324800</td>\n",
       "      <td>1.000000</td>\n",
       "      <td>24.963000</td>\n",
       "      <td>121.528085</td>\n",
       "      <td>27.700000</td>\n",
       "    </tr>\n",
       "    <tr>\n",
       "      <th>50%</th>\n",
       "      <td>207.500000</td>\n",
       "      <td>2013.0</td>\n",
       "      <td>16.100000</td>\n",
       "      <td>492.231300</td>\n",
       "      <td>4.000000</td>\n",
       "      <td>24.971100</td>\n",
       "      <td>121.538630</td>\n",
       "      <td>38.450000</td>\n",
       "    </tr>\n",
       "    <tr>\n",
       "      <th>75%</th>\n",
       "      <td>310.750000</td>\n",
       "      <td>2013.0</td>\n",
       "      <td>28.150000</td>\n",
       "      <td>1454.279000</td>\n",
       "      <td>6.000000</td>\n",
       "      <td>24.977455</td>\n",
       "      <td>121.543305</td>\n",
       "      <td>46.600000</td>\n",
       "    </tr>\n",
       "    <tr>\n",
       "      <th>max</th>\n",
       "      <td>414.000000</td>\n",
       "      <td>2013.0</td>\n",
       "      <td>43.800000</td>\n",
       "      <td>3201.710300</td>\n",
       "      <td>10.000000</td>\n",
       "      <td>24.999137</td>\n",
       "      <td>121.566135</td>\n",
       "      <td>74.950000</td>\n",
       "    </tr>\n",
       "  </tbody>\n",
       "</table>\n",
       "</div>"
      ],
      "text/plain": [
       "               No  transaction_date   house_age  \\\n",
       "count  414.000000             414.0  414.000000   \n",
       "mean   207.500000            2013.0   17.712560   \n",
       "std    119.655756               0.0   11.392485   \n",
       "min      1.000000            2013.0    0.000000   \n",
       "25%    104.250000            2013.0    9.025000   \n",
       "50%    207.500000            2013.0   16.100000   \n",
       "75%    310.750000            2013.0   28.150000   \n",
       "max    414.000000            2013.0   43.800000   \n",
       "\n",
       "       distance_to_the_nearest_MRT_station  number_of_convenience_stores  \\\n",
       "count                           414.000000                    414.000000   \n",
       "mean                            974.545851                      4.094203   \n",
       "std                             968.915855                      2.945562   \n",
       "min                              23.382840                      0.000000   \n",
       "25%                             289.324800                      1.000000   \n",
       "50%                             492.231300                      4.000000   \n",
       "75%                            1454.279000                      6.000000   \n",
       "max                            3201.710300                     10.000000   \n",
       "\n",
       "         latitude   longitude  house_price  \n",
       "count  414.000000  414.000000   414.000000  \n",
       "mean    24.970246  121.536080    37.861957  \n",
       "std      0.010037    0.010179    13.112035  \n",
       "min     24.955773  121.520475     7.600000  \n",
       "25%     24.963000  121.528085    27.700000  \n",
       "50%     24.971100  121.538630    38.450000  \n",
       "75%     24.977455  121.543305    46.600000  \n",
       "max     24.999137  121.566135    74.950000  "
      ]
     },
     "execution_count": 19,
     "metadata": {},
     "output_type": "execute_result"
    }
   ],
   "source": [
    "new.describe()"
   ]
  },
  {
   "cell_type": "code",
   "execution_count": 20,
   "id": "1b091f80",
   "metadata": {},
   "outputs": [
    {
     "data": {
      "text/plain": [
       "No                                     0\n",
       "transaction_date                       0\n",
       "house_age                              0\n",
       "distance_to_the_nearest_MRT_station    0\n",
       "number_of_convenience_stores           0\n",
       "latitude                               0\n",
       "longitude                              0\n",
       "house_price                            0\n",
       "dtype: int64"
      ]
     },
     "execution_count": 20,
     "metadata": {},
     "output_type": "execute_result"
    }
   ],
   "source": [
    "new.isna().sum()"
   ]
  },
  {
   "cell_type": "code",
   "execution_count": 21,
   "id": "51d35cd6",
   "metadata": {},
   "outputs": [
    {
     "data": {
      "text/html": [
       "<div>\n",
       "<style scoped>\n",
       "    .dataframe tbody tr th:only-of-type {\n",
       "        vertical-align: middle;\n",
       "    }\n",
       "\n",
       "    .dataframe tbody tr th {\n",
       "        vertical-align: top;\n",
       "    }\n",
       "\n",
       "    .dataframe thead th {\n",
       "        text-align: right;\n",
       "    }\n",
       "</style>\n",
       "<table border=\"1\" class=\"dataframe\">\n",
       "  <thead>\n",
       "    <tr style=\"text-align: right;\">\n",
       "      <th></th>\n",
       "      <th>No</th>\n",
       "      <th>transaction_date</th>\n",
       "      <th>house_age</th>\n",
       "      <th>distance_to_the_nearest_MRT_station</th>\n",
       "      <th>number_of_convenience_stores</th>\n",
       "      <th>latitude</th>\n",
       "      <th>longitude</th>\n",
       "      <th>house_price</th>\n",
       "    </tr>\n",
       "  </thead>\n",
       "  <tbody>\n",
       "    <tr>\n",
       "      <th>0</th>\n",
       "      <td>1</td>\n",
       "      <td>2013.0</td>\n",
       "      <td>32.0</td>\n",
       "      <td>84.87882</td>\n",
       "      <td>10</td>\n",
       "      <td>24.98298</td>\n",
       "      <td>121.54024</td>\n",
       "      <td>37.9</td>\n",
       "    </tr>\n",
       "    <tr>\n",
       "      <th>1</th>\n",
       "      <td>2</td>\n",
       "      <td>2013.0</td>\n",
       "      <td>19.5</td>\n",
       "      <td>306.59470</td>\n",
       "      <td>9</td>\n",
       "      <td>24.98034</td>\n",
       "      <td>121.53951</td>\n",
       "      <td>42.2</td>\n",
       "    </tr>\n",
       "    <tr>\n",
       "      <th>2</th>\n",
       "      <td>3</td>\n",
       "      <td>2013.0</td>\n",
       "      <td>13.3</td>\n",
       "      <td>561.98450</td>\n",
       "      <td>5</td>\n",
       "      <td>24.98746</td>\n",
       "      <td>121.54391</td>\n",
       "      <td>47.3</td>\n",
       "    </tr>\n",
       "    <tr>\n",
       "      <th>3</th>\n",
       "      <td>4</td>\n",
       "      <td>2013.0</td>\n",
       "      <td>13.3</td>\n",
       "      <td>561.98450</td>\n",
       "      <td>5</td>\n",
       "      <td>24.98746</td>\n",
       "      <td>121.54391</td>\n",
       "      <td>54.8</td>\n",
       "    </tr>\n",
       "    <tr>\n",
       "      <th>4</th>\n",
       "      <td>5</td>\n",
       "      <td>2013.0</td>\n",
       "      <td>5.0</td>\n",
       "      <td>390.56840</td>\n",
       "      <td>5</td>\n",
       "      <td>24.97937</td>\n",
       "      <td>121.54245</td>\n",
       "      <td>43.1</td>\n",
       "    </tr>\n",
       "  </tbody>\n",
       "</table>\n",
       "</div>"
      ],
      "text/plain": [
       "   No  transaction_date  house_age  distance_to_the_nearest_MRT_station  \\\n",
       "0   1            2013.0       32.0                             84.87882   \n",
       "1   2            2013.0       19.5                            306.59470   \n",
       "2   3            2013.0       13.3                            561.98450   \n",
       "3   4            2013.0       13.3                            561.98450   \n",
       "4   5            2013.0        5.0                            390.56840   \n",
       "\n",
       "   number_of_convenience_stores  latitude  longitude  house_price  \n",
       "0                            10  24.98298  121.54024         37.9  \n",
       "1                             9  24.98034  121.53951         42.2  \n",
       "2                             5  24.98746  121.54391         47.3  \n",
       "3                             5  24.98746  121.54391         54.8  \n",
       "4                             5  24.97937  121.54245         43.1  "
      ]
     },
     "execution_count": 21,
     "metadata": {},
     "output_type": "execute_result"
    }
   ],
   "source": [
    "new.head()"
   ]
  },
  {
   "cell_type": "code",
   "execution_count": 22,
   "id": "9ba29aac",
   "metadata": {},
   "outputs": [],
   "source": [
    "X = new.drop('house_price',axis=1)\n",
    "\n",
    "Y = new[['house_price']]\n",
    "\n",
    "from sklearn.model_selection import train_test_split\n",
    "X_train, X_test, Y_train, Y_test =train_test_split(X, Y, train_size=0.7 ,random_state=100)\n"
   ]
  },
  {
   "cell_type": "code",
   "execution_count": 23,
   "id": "8beeaa36",
   "metadata": {},
   "outputs": [
    {
     "data": {
      "text/html": [
       "<div>\n",
       "<style scoped>\n",
       "    .dataframe tbody tr th:only-of-type {\n",
       "        vertical-align: middle;\n",
       "    }\n",
       "\n",
       "    .dataframe tbody tr th {\n",
       "        vertical-align: top;\n",
       "    }\n",
       "\n",
       "    .dataframe thead th {\n",
       "        text-align: right;\n",
       "    }\n",
       "</style>\n",
       "<table border=\"1\" class=\"dataframe\">\n",
       "  <thead>\n",
       "    <tr style=\"text-align: right;\">\n",
       "      <th></th>\n",
       "      <th>house_price</th>\n",
       "      <th>No</th>\n",
       "      <th>transaction_date</th>\n",
       "      <th>house_age</th>\n",
       "      <th>distance_to_the_nearest_MRT_station</th>\n",
       "      <th>number_of_convenience_stores</th>\n",
       "      <th>latitude</th>\n",
       "      <th>longitude</th>\n",
       "    </tr>\n",
       "  </thead>\n",
       "  <tbody>\n",
       "    <tr>\n",
       "      <th>287</th>\n",
       "      <td>32.9</td>\n",
       "      <td>288</td>\n",
       "      <td>2013.0</td>\n",
       "      <td>19.2</td>\n",
       "      <td>461.1016</td>\n",
       "      <td>5</td>\n",
       "      <td>24.955773</td>\n",
       "      <td>121.53990</td>\n",
       "    </tr>\n",
       "    <tr>\n",
       "      <th>31</th>\n",
       "      <td>25.0</td>\n",
       "      <td>32</td>\n",
       "      <td>2013.0</td>\n",
       "      <td>29.6</td>\n",
       "      <td>769.4034</td>\n",
       "      <td>7</td>\n",
       "      <td>24.982810</td>\n",
       "      <td>121.53408</td>\n",
       "    </tr>\n",
       "    <tr>\n",
       "      <th>209</th>\n",
       "      <td>40.9</td>\n",
       "      <td>210</td>\n",
       "      <td>2013.0</td>\n",
       "      <td>34.8</td>\n",
       "      <td>175.6294</td>\n",
       "      <td>8</td>\n",
       "      <td>24.973470</td>\n",
       "      <td>121.54271</td>\n",
       "    </tr>\n",
       "    <tr>\n",
       "      <th>239</th>\n",
       "      <td>29.7</td>\n",
       "      <td>240</td>\n",
       "      <td>2013.0</td>\n",
       "      <td>18.1</td>\n",
       "      <td>837.7233</td>\n",
       "      <td>0</td>\n",
       "      <td>24.963340</td>\n",
       "      <td>121.54767</td>\n",
       "    </tr>\n",
       "    <tr>\n",
       "      <th>47</th>\n",
       "      <td>61.5</td>\n",
       "      <td>48</td>\n",
       "      <td>2013.0</td>\n",
       "      <td>35.9</td>\n",
       "      <td>640.7391</td>\n",
       "      <td>3</td>\n",
       "      <td>24.975630</td>\n",
       "      <td>121.53715</td>\n",
       "    </tr>\n",
       "  </tbody>\n",
       "</table>\n",
       "</div>"
      ],
      "text/plain": [
       "     house_price   No  transaction_date  house_age  \\\n",
       "287         32.9  288            2013.0       19.2   \n",
       "31          25.0   32            2013.0       29.6   \n",
       "209         40.9  210            2013.0       34.8   \n",
       "239         29.7  240            2013.0       18.1   \n",
       "47          61.5   48            2013.0       35.9   \n",
       "\n",
       "     distance_to_the_nearest_MRT_station  number_of_convenience_stores  \\\n",
       "287                             461.1016                             5   \n",
       "31                              769.4034                             7   \n",
       "209                             175.6294                             8   \n",
       "239                             837.7233                             0   \n",
       "47                              640.7391                             3   \n",
       "\n",
       "      latitude  longitude  \n",
       "287  24.955773  121.53990  \n",
       "31   24.982810  121.53408  \n",
       "209  24.973470  121.54271  \n",
       "239  24.963340  121.54767  \n",
       "47   24.975630  121.53715  "
      ]
     },
     "execution_count": 23,
     "metadata": {},
     "output_type": "execute_result"
    }
   ],
   "source": [
    "df = pd.concat([Y_train, X_train], axis=1)\n",
    "df.head()"
   ]
  },
  {
   "cell_type": "code",
   "execution_count": 24,
   "id": "ce0a8a6c",
   "metadata": {},
   "outputs": [
    {
     "data": {
      "text/html": [
       "<div>\n",
       "<style scoped>\n",
       "    .dataframe tbody tr th:only-of-type {\n",
       "        vertical-align: middle;\n",
       "    }\n",
       "\n",
       "    .dataframe tbody tr th {\n",
       "        vertical-align: top;\n",
       "    }\n",
       "\n",
       "    .dataframe thead th {\n",
       "        text-align: right;\n",
       "    }\n",
       "</style>\n",
       "<table border=\"1\" class=\"dataframe\">\n",
       "  <thead>\n",
       "    <tr style=\"text-align: right;\">\n",
       "      <th></th>\n",
       "      <th>house_price</th>\n",
       "      <th>No</th>\n",
       "      <th>transaction_date</th>\n",
       "      <th>house_age</th>\n",
       "      <th>distance_to_the_nearest_MRT_station</th>\n",
       "      <th>number_of_convenience_stores</th>\n",
       "      <th>latitude</th>\n",
       "      <th>longitude</th>\n",
       "    </tr>\n",
       "  </thead>\n",
       "  <tbody>\n",
       "    <tr>\n",
       "      <th>house_price</th>\n",
       "      <td>1.000000</td>\n",
       "      <td>0.046580</td>\n",
       "      <td>NaN</td>\n",
       "      <td>-0.225664</td>\n",
       "      <td>-0.711419</td>\n",
       "      <td>0.576194</td>\n",
       "      <td>0.518078</td>\n",
       "      <td>0.459521</td>\n",
       "    </tr>\n",
       "    <tr>\n",
       "      <th>No</th>\n",
       "      <td>0.046580</td>\n",
       "      <td>1.000000</td>\n",
       "      <td>NaN</td>\n",
       "      <td>-0.026710</td>\n",
       "      <td>-0.110133</td>\n",
       "      <td>0.075824</td>\n",
       "      <td>0.039189</td>\n",
       "      <td>0.073056</td>\n",
       "    </tr>\n",
       "    <tr>\n",
       "      <th>transaction_date</th>\n",
       "      <td>NaN</td>\n",
       "      <td>NaN</td>\n",
       "      <td>NaN</td>\n",
       "      <td>NaN</td>\n",
       "      <td>NaN</td>\n",
       "      <td>NaN</td>\n",
       "      <td>NaN</td>\n",
       "      <td>NaN</td>\n",
       "    </tr>\n",
       "    <tr>\n",
       "      <th>house_age</th>\n",
       "      <td>-0.225664</td>\n",
       "      <td>-0.026710</td>\n",
       "      <td>NaN</td>\n",
       "      <td>1.000000</td>\n",
       "      <td>0.006969</td>\n",
       "      <td>0.063199</td>\n",
       "      <td>0.041726</td>\n",
       "      <td>-0.065760</td>\n",
       "    </tr>\n",
       "    <tr>\n",
       "      <th>distance_to_the_nearest_MRT_station</th>\n",
       "      <td>-0.711419</td>\n",
       "      <td>-0.110133</td>\n",
       "      <td>NaN</td>\n",
       "      <td>0.006969</td>\n",
       "      <td>1.000000</td>\n",
       "      <td>-0.636064</td>\n",
       "      <td>-0.476306</td>\n",
       "      <td>-0.648493</td>\n",
       "    </tr>\n",
       "    <tr>\n",
       "      <th>number_of_convenience_stores</th>\n",
       "      <td>0.576194</td>\n",
       "      <td>0.075824</td>\n",
       "      <td>NaN</td>\n",
       "      <td>0.063199</td>\n",
       "      <td>-0.636064</td>\n",
       "      <td>1.000000</td>\n",
       "      <td>0.382381</td>\n",
       "      <td>0.434109</td>\n",
       "    </tr>\n",
       "    <tr>\n",
       "      <th>latitude</th>\n",
       "      <td>0.518078</td>\n",
       "      <td>0.039189</td>\n",
       "      <td>NaN</td>\n",
       "      <td>0.041726</td>\n",
       "      <td>-0.476306</td>\n",
       "      <td>0.382381</td>\n",
       "      <td>1.000000</td>\n",
       "      <td>0.186011</td>\n",
       "    </tr>\n",
       "    <tr>\n",
       "      <th>longitude</th>\n",
       "      <td>0.459521</td>\n",
       "      <td>0.073056</td>\n",
       "      <td>NaN</td>\n",
       "      <td>-0.065760</td>\n",
       "      <td>-0.648493</td>\n",
       "      <td>0.434109</td>\n",
       "      <td>0.186011</td>\n",
       "      <td>1.000000</td>\n",
       "    </tr>\n",
       "  </tbody>\n",
       "</table>\n",
       "</div>"
      ],
      "text/plain": [
       "                                     house_price        No  transaction_date  \\\n",
       "house_price                             1.000000  0.046580               NaN   \n",
       "No                                      0.046580  1.000000               NaN   \n",
       "transaction_date                             NaN       NaN               NaN   \n",
       "house_age                              -0.225664 -0.026710               NaN   \n",
       "distance_to_the_nearest_MRT_station    -0.711419 -0.110133               NaN   \n",
       "number_of_convenience_stores            0.576194  0.075824               NaN   \n",
       "latitude                                0.518078  0.039189               NaN   \n",
       "longitude                               0.459521  0.073056               NaN   \n",
       "\n",
       "                                     house_age  \\\n",
       "house_price                          -0.225664   \n",
       "No                                   -0.026710   \n",
       "transaction_date                           NaN   \n",
       "house_age                             1.000000   \n",
       "distance_to_the_nearest_MRT_station   0.006969   \n",
       "number_of_convenience_stores          0.063199   \n",
       "latitude                              0.041726   \n",
       "longitude                            -0.065760   \n",
       "\n",
       "                                     distance_to_the_nearest_MRT_station  \\\n",
       "house_price                                                    -0.711419   \n",
       "No                                                             -0.110133   \n",
       "transaction_date                                                     NaN   \n",
       "house_age                                                       0.006969   \n",
       "distance_to_the_nearest_MRT_station                             1.000000   \n",
       "number_of_convenience_stores                                   -0.636064   \n",
       "latitude                                                       -0.476306   \n",
       "longitude                                                      -0.648493   \n",
       "\n",
       "                                     number_of_convenience_stores  latitude  \\\n",
       "house_price                                              0.576194  0.518078   \n",
       "No                                                       0.075824  0.039189   \n",
       "transaction_date                                              NaN       NaN   \n",
       "house_age                                                0.063199  0.041726   \n",
       "distance_to_the_nearest_MRT_station                     -0.636064 -0.476306   \n",
       "number_of_convenience_stores                             1.000000  0.382381   \n",
       "latitude                                                 0.382381  1.000000   \n",
       "longitude                                                0.434109  0.186011   \n",
       "\n",
       "                                     longitude  \n",
       "house_price                           0.459521  \n",
       "No                                    0.073056  \n",
       "transaction_date                           NaN  \n",
       "house_age                            -0.065760  \n",
       "distance_to_the_nearest_MRT_station  -0.648493  \n",
       "number_of_convenience_stores          0.434109  \n",
       "latitude                              0.186011  \n",
       "longitude                             1.000000  "
      ]
     },
     "execution_count": 24,
     "metadata": {},
     "output_type": "execute_result"
    }
   ],
   "source": [
    "df.corr()"
   ]
  },
  {
   "cell_type": "code",
   "execution_count": 25,
   "id": "edb9747d",
   "metadata": {},
   "outputs": [
    {
     "data": {
      "text/plain": [
       "<AxesSubplot:>"
      ]
     },
     "execution_count": 25,
     "metadata": {},
     "output_type": "execute_result"
    },
    {
     "data": {
      "image/png": "[encoded data removed]",
      "text/plain": [
       "<Figure size 432x288 with 2 Axes>"
      ]
     },
     "metadata": {
      "needs_background": "light"
     },
     "output_type": "display_data"
    }
   ],
   "source": [
    "sns.heatmap(df.corr(),annot = True)"
   ]
  },
  {
   "cell_type": "code",
   "execution_count": 26,
   "id": "dc0af307",
   "metadata": {},
   "outputs": [
    {
     "data": {
      "text/plain": [
       "<AxesSubplot:title={'center':'sales vs TV'}, xlabel='distance_to_the_nearest_MRT_station', ylabel='house_price'>"
      ]
     },
     "execution_count": 26,
     "metadata": {},
     "output_type": "execute_result"
    },
    {
     "data": {
      "image/png": "[encoded data removed]",
      "text/plain": [
       "<Figure size 432x288 with 1 Axes>"
      ]
     },
     "metadata": {
      "needs_background": "light"
     },
     "output_type": "display_data"
    }
   ],
   "source": [
    "df.plot.scatter(x='distance_to_the_nearest_MRT_station', y='house_price', title='sales vs TV')"
   ]
  },
  {
   "cell_type": "code",
   "execution_count": 27,
   "id": "7b97502f",
   "metadata": {},
   "outputs": [
    {
     "data": {
      "text/plain": [
       "No                                     1.013308e+00\n",
       "transaction_date                       2.793237e+08\n",
       "house_age                              1.016361e+00\n",
       "distance_to_the_nearest_MRT_station    2.746971e+00\n",
       "number_of_convenience_stores           1.722184e+00\n",
       "latitude                               1.361404e+00\n",
       "longitude                              1.803236e+00\n",
       "dtype: float64"
      ]
     },
     "execution_count": 27,
     "metadata": {},
     "output_type": "execute_result"
    }
   ],
   "source": [
    "X1=df.drop(['house_price'],axis=1)\n",
    "series_before = pd.Series([variance_inflation_factor(X1.values, i) \n",
    "                           for i in range(X1.shape[1])],  # i=0,1,2\n",
    "                          index=X1.columns)  # column name\n",
    "series_before"
   ]
  },
  {
   "cell_type": "code",
   "execution_count": 28,
   "id": "da66da38",
   "metadata": {},
   "outputs": [
    {
     "data": {
      "text/plain": [
       "transaction_date                       2.793142e+08\n",
       "house_age                              1.015653e+00\n",
       "distance_to_the_nearest_MRT_station    2.734355e+00\n",
       "number_of_convenience_stores           1.721949e+00\n",
       "latitude                               1.361080e+00\n",
       "longitude                              1.803217e+00\n",
       "dtype: float64"
      ]
     },
     "execution_count": 28,
     "metadata": {},
     "output_type": "execute_result"
    }
   ],
   "source": [
    "X1=df.loc[:,['transaction_date','house_age','distance_to_the_nearest_MRT_station','number_of_convenience_stores','latitude','longitude']]\n",
    "series_before = pd.Series([variance_inflation_factor(X1.values, i) \n",
    "                           for i in range(X1.shape[1])], \n",
    "                          index=X1.columns)\n",
    "series_before"
   ]
  },
  {
   "cell_type": "code",
   "execution_count": 29,
   "id": "c07af09a",
   "metadata": {},
   "outputs": [
    {
     "data": {
      "text/html": [
       "<table class=\"simpletable\">\n",
       "<caption>OLS Regression Results</caption>\n",
       "<tr>\n",
       "  <th>Dep. Variable:</th>       <td>house_price</td>   <th>  R-squared:         </th> <td>   0.626</td>\n",
       "</tr>\n",
       "<tr>\n",
       "  <th>Model:</th>                   <td>OLS</td>       <th>  Adj. R-squared:    </th> <td>   0.621</td>\n",
       "</tr>\n",
       "<tr>\n",
       "  <th>Method:</th>             <td>Least Squares</td>  <th>  F-statistic:       </th> <td>   118.8</td>\n",
       "</tr>\n",
       "<tr>\n",
       "  <th>Date:</th>             <td>Mon, 27 Jun 2022</td> <th>  Prob (F-statistic):</th> <td>2.10e-59</td>\n",
       "</tr>\n",
       "<tr>\n",
       "  <th>Time:</th>                 <td>14:27:08</td>     <th>  Log-Likelihood:    </th> <td> -1022.0</td>\n",
       "</tr>\n",
       "<tr>\n",
       "  <th>No. Observations:</th>      <td>   289</td>      <th>  AIC:               </th> <td>   2054.</td>\n",
       "</tr>\n",
       "<tr>\n",
       "  <th>Df Residuals:</th>          <td>   284</td>      <th>  BIC:               </th> <td>   2072.</td>\n",
       "</tr>\n",
       "<tr>\n",
       "  <th>Df Model:</th>              <td>     4</td>      <th>                     </th>     <td> </td>   \n",
       "</tr>\n",
       "<tr>\n",
       "  <th>Covariance Type:</th>      <td>nonrobust</td>    <th>                     </th>     <td> </td>   \n",
       "</tr>\n",
       "</table>\n",
       "<table class=\"simpletable\">\n",
       "<tr>\n",
       "                   <td></td>                      <th>coef</th>     <th>std err</th>      <th>t</th>      <th>P>|t|</th>  <th>[0.025</th>    <th>0.975]</th>  \n",
       "</tr>\n",
       "<tr>\n",
       "  <th>Intercept</th>                           <td>   -0.0018</td> <td>    0.000</td> <td>   -5.375</td> <td> 0.000</td> <td>   -0.003</td> <td>   -0.001</td>\n",
       "</tr>\n",
       "<tr>\n",
       "  <th>transaction_date</th>                    <td>   -3.7009</td> <td>    0.689</td> <td>   -5.375</td> <td> 0.000</td> <td>   -5.056</td> <td>   -2.346</td>\n",
       "</tr>\n",
       "<tr>\n",
       "  <th>house_age</th>                           <td>   -0.2875</td> <td>    0.043</td> <td>   -6.711</td> <td> 0.000</td> <td>   -0.372</td> <td>   -0.203</td>\n",
       "</tr>\n",
       "<tr>\n",
       "  <th>distance_to_the_nearest_MRT_station</th> <td>   -0.0063</td> <td>    0.001</td> <td>   -9.456</td> <td> 0.000</td> <td>   -0.008</td> <td>   -0.005</td>\n",
       "</tr>\n",
       "<tr>\n",
       "  <th>number_of_convenience_stores</th>        <td>    0.9173</td> <td>    0.212</td> <td>    4.325</td> <td> 0.000</td> <td>    0.500</td> <td>    1.335</td>\n",
       "</tr>\n",
       "<tr>\n",
       "  <th>latitude</th>                            <td>  300.1820</td> <td>   55.509</td> <td>    5.408</td> <td> 0.000</td> <td>  190.921</td> <td>  409.443</td>\n",
       "</tr>\n",
       "</table>\n",
       "<table class=\"simpletable\">\n",
       "<tr>\n",
       "  <th>Omnibus:</th>       <td>60.995</td> <th>  Durbin-Watson:     </th> <td>   1.843</td>\n",
       "</tr>\n",
       "<tr>\n",
       "  <th>Prob(Omnibus):</th> <td> 0.000</td> <th>  Jarque-Bera (JB):  </th> <td> 184.220</td>\n",
       "</tr>\n",
       "<tr>\n",
       "  <th>Skew:</th>          <td> 0.916</td> <th>  Prob(JB):          </th> <td>9.93e-41</td>\n",
       "</tr>\n",
       "<tr>\n",
       "  <th>Kurtosis:</th>      <td> 6.455</td> <th>  Cond. No.          </th> <td>5.93e+18</td>\n",
       "</tr>\n",
       "</table><br/><br/>Notes:<br/>[1] Standard Errors assume that the covariance matrix of the errors is correctly specified.<br/>[2] The smallest eigenvalue is 4.4e-29. This might indicate that there are<br/>strong multicollinearity problems or that the design matrix is singular."
      ],
      "text/plain": [
       "<class 'statsmodels.iolib.summary.Summary'>\n",
       "\"\"\"\n",
       "                            OLS Regression Results                            \n",
       "==============================================================================\n",
       "Dep. Variable:            house_price   R-squared:                       0.626\n",
       "Model:                            OLS   Adj. R-squared:                  0.621\n",
       "Method:                 Least Squares   F-statistic:                     118.8\n",
       "Date:                Mon, 27 Jun 2022   Prob (F-statistic):           2.10e-59\n",
       "Time:                        14:27:08   Log-Likelihood:                -1022.0\n",
       "No. Observations:                 289   AIC:                             2054.\n",
       "Df Residuals:                     284   BIC:                             2072.\n",
       "Df Model:                           4                                         \n",
       "Covariance Type:            nonrobust                                         \n",
       "=======================================================================================================\n",
       "                                          coef    std err          t      P>|t|      [0.025      0.975]\n",
       "-------------------------------------------------------------------------------------------------------\n",
       "Intercept                              -0.0018      0.000     -5.375      0.000      -0.003      -0.001\n",
       "transaction_date                       -3.7009      0.689     -5.375      0.000      -5.056      -2.346\n",
       "house_age                              -0.2875      0.043     -6.711      0.000      -0.372      -0.203\n",
       "distance_to_the_nearest_MRT_station    -0.0063      0.001     -9.456      0.000      -0.008      -0.005\n",
       "number_of_convenience_stores            0.9173      0.212      4.325      0.000       0.500       1.335\n",
       "latitude                              300.1820     55.509      5.408      0.000     190.921     409.443\n",
       "==============================================================================\n",
       "Omnibus:                       60.995   Durbin-Watson:                   1.843\n",
       "Prob(Omnibus):                  0.000   Jarque-Bera (JB):              184.220\n",
       "Skew:                           0.916   Prob(JB):                     9.93e-41\n",
       "Kurtosis:                       6.455   Cond. No.                     5.93e+18\n",
       "==============================================================================\n",
       "\n",
       "Notes:\n",
       "[1] Standard Errors assume that the covariance matrix of the errors is correctly specified.\n",
       "[2] The smallest eigenvalue is 4.4e-29. This might indicate that there are\n",
       "strong multicollinearity problems or that the design matrix is singular.\n",
       "\"\"\""
      ]
     },
     "execution_count": 29,
     "metadata": {},
     "output_type": "execute_result"
    }
   ],
   "source": [
    "import statsmodels.formula.api as smf\n",
    "model = smf.ols('house_price ~ transaction_date + house_age + distance_to_the_nearest_MRT_station + number_of_convenience_stores + latitude',data=df).fit()\n",
    "model.summary() "
   ]
  },
  {
   "cell_type": "code",
   "execution_count": 30,
   "id": "ec5b600e",
   "metadata": {},
   "outputs": [
    {
     "data": {
      "text/html": [
       "<div>\n",
       "<style scoped>\n",
       "    .dataframe tbody tr th:only-of-type {\n",
       "        vertical-align: middle;\n",
       "    }\n",
       "\n",
       "    .dataframe tbody tr th {\n",
       "        vertical-align: top;\n",
       "    }\n",
       "\n",
       "    .dataframe thead th {\n",
       "        text-align: right;\n",
       "    }\n",
       "</style>\n",
       "<table border=\"1\" class=\"dataframe\">\n",
       "  <thead>\n",
       "    <tr style=\"text-align: right;\">\n",
       "      <th></th>\n",
       "      <th>house_price</th>\n",
       "      <th>No</th>\n",
       "      <th>transaction_date</th>\n",
       "      <th>house_age</th>\n",
       "      <th>distance_to_the_nearest_MRT_station</th>\n",
       "      <th>number_of_convenience_stores</th>\n",
       "      <th>latitude</th>\n",
       "      <th>longitude</th>\n",
       "    </tr>\n",
       "  </thead>\n",
       "  <tbody>\n",
       "    <tr>\n",
       "      <th>287</th>\n",
       "      <td>32.9</td>\n",
       "      <td>288</td>\n",
       "      <td>2013.0</td>\n",
       "      <td>19.2</td>\n",
       "      <td>461.1016</td>\n",
       "      <td>5</td>\n",
       "      <td>24.955773</td>\n",
       "      <td>121.53990</td>\n",
       "    </tr>\n",
       "    <tr>\n",
       "      <th>31</th>\n",
       "      <td>25.0</td>\n",
       "      <td>32</td>\n",
       "      <td>2013.0</td>\n",
       "      <td>29.6</td>\n",
       "      <td>769.4034</td>\n",
       "      <td>7</td>\n",
       "      <td>24.982810</td>\n",
       "      <td>121.53408</td>\n",
       "    </tr>\n",
       "    <tr>\n",
       "      <th>209</th>\n",
       "      <td>40.9</td>\n",
       "      <td>210</td>\n",
       "      <td>2013.0</td>\n",
       "      <td>34.8</td>\n",
       "      <td>175.6294</td>\n",
       "      <td>8</td>\n",
       "      <td>24.973470</td>\n",
       "      <td>121.54271</td>\n",
       "    </tr>\n",
       "    <tr>\n",
       "      <th>239</th>\n",
       "      <td>29.7</td>\n",
       "      <td>240</td>\n",
       "      <td>2013.0</td>\n",
       "      <td>18.1</td>\n",
       "      <td>837.7233</td>\n",
       "      <td>0</td>\n",
       "      <td>24.963340</td>\n",
       "      <td>121.54767</td>\n",
       "    </tr>\n",
       "    <tr>\n",
       "      <th>47</th>\n",
       "      <td>61.5</td>\n",
       "      <td>48</td>\n",
       "      <td>2013.0</td>\n",
       "      <td>35.9</td>\n",
       "      <td>640.7391</td>\n",
       "      <td>3</td>\n",
       "      <td>24.975630</td>\n",
       "      <td>121.53715</td>\n",
       "    </tr>\n",
       "  </tbody>\n",
       "</table>\n",
       "</div>"
      ],
      "text/plain": [
       "     house_price   No  transaction_date  house_age  \\\n",
       "287         32.9  288            2013.0       19.2   \n",
       "31          25.0   32            2013.0       29.6   \n",
       "209         40.9  210            2013.0       34.8   \n",
       "239         29.7  240            2013.0       18.1   \n",
       "47          61.5   48            2013.0       35.9   \n",
       "\n",
       "     distance_to_the_nearest_MRT_station  number_of_convenience_stores  \\\n",
       "287                             461.1016                             5   \n",
       "31                              769.4034                             7   \n",
       "209                             175.6294                             8   \n",
       "239                             837.7233                             0   \n",
       "47                              640.7391                             3   \n",
       "\n",
       "      latitude  longitude  \n",
       "287  24.955773  121.53990  \n",
       "31   24.982810  121.53408  \n",
       "209  24.973470  121.54271  \n",
       "239  24.963340  121.54767  \n",
       "47   24.975630  121.53715  "
      ]
     },
     "execution_count": 30,
     "metadata": {},
     "output_type": "execute_result"
    }
   ],
   "source": [
    "df.head()"
   ]
  },
  {
   "cell_type": "code",
   "execution_count": 31,
   "id": "eec230b7",
   "metadata": {},
   "outputs": [
    {
     "data": {
      "text/html": [
       "<div>\n",
       "<style scoped>\n",
       "    .dataframe tbody tr th:only-of-type {\n",
       "        vertical-align: middle;\n",
       "    }\n",
       "\n",
       "    .dataframe tbody tr th {\n",
       "        vertical-align: top;\n",
       "    }\n",
       "\n",
       "    .dataframe thead th {\n",
       "        text-align: right;\n",
       "    }\n",
       "</style>\n",
       "<table border=\"1\" class=\"dataframe\">\n",
       "  <thead>\n",
       "    <tr style=\"text-align: right;\">\n",
       "      <th></th>\n",
       "      <th>house_price</th>\n",
       "      <th>No</th>\n",
       "      <th>transaction_date</th>\n",
       "      <th>house_age</th>\n",
       "      <th>distance_to_the_nearest_MRT_station</th>\n",
       "      <th>number_of_convenience_stores</th>\n",
       "      <th>latitude</th>\n",
       "      <th>longitude</th>\n",
       "      <th>fitted_value</th>\n",
       "      <th>residual</th>\n",
       "    </tr>\n",
       "  </thead>\n",
       "  <tbody>\n",
       "    <tr>\n",
       "      <th>287</th>\n",
       "      <td>32.9</td>\n",
       "      <td>288</td>\n",
       "      <td>2013.0</td>\n",
       "      <td>19.2</td>\n",
       "      <td>461.1016</td>\n",
       "      <td>5</td>\n",
       "      <td>24.955773</td>\n",
       "      <td>121.53990</td>\n",
       "      <td>37.444415</td>\n",
       "      <td>-4.544415</td>\n",
       "    </tr>\n",
       "    <tr>\n",
       "      <th>31</th>\n",
       "      <td>25.0</td>\n",
       "      <td>32</td>\n",
       "      <td>2013.0</td>\n",
       "      <td>29.6</td>\n",
       "      <td>769.4034</td>\n",
       "      <td>7</td>\n",
       "      <td>24.982810</td>\n",
       "      <td>121.53408</td>\n",
       "      <td>42.452060</td>\n",
       "      <td>-17.452060</td>\n",
       "    </tr>\n",
       "    <tr>\n",
       "      <th>209</th>\n",
       "      <td>40.9</td>\n",
       "      <td>210</td>\n",
       "      <td>2013.0</td>\n",
       "      <td>34.8</td>\n",
       "      <td>175.6294</td>\n",
       "      <td>8</td>\n",
       "      <td>24.973470</td>\n",
       "      <td>121.54271</td>\n",
       "      <td>42.832291</td>\n",
       "      <td>-1.932291</td>\n",
       "    </tr>\n",
       "    <tr>\n",
       "      <th>239</th>\n",
       "      <td>29.7</td>\n",
       "      <td>240</td>\n",
       "      <td>2013.0</td>\n",
       "      <td>18.1</td>\n",
       "      <td>837.7233</td>\n",
       "      <td>0</td>\n",
       "      <td>24.963340</td>\n",
       "      <td>121.54767</td>\n",
       "      <td>33.059985</td>\n",
       "      <td>-3.359985</td>\n",
       "    </tr>\n",
       "    <tr>\n",
       "      <th>47</th>\n",
       "      <td>61.5</td>\n",
       "      <td>48</td>\n",
       "      <td>2013.0</td>\n",
       "      <td>35.9</td>\n",
       "      <td>640.7391</td>\n",
       "      <td>3</td>\n",
       "      <td>24.975630</td>\n",
       "      <td>121.53715</td>\n",
       "      <td>35.631557</td>\n",
       "      <td>25.868443</td>\n",
       "    </tr>\n",
       "  </tbody>\n",
       "</table>\n",
       "</div>"
      ],
      "text/plain": [
       "     house_price   No  transaction_date  house_age  \\\n",
       "287         32.9  288            2013.0       19.2   \n",
       "31          25.0   32            2013.0       29.6   \n",
       "209         40.9  210            2013.0       34.8   \n",
       "239         29.7  240            2013.0       18.1   \n",
       "47          61.5   48            2013.0       35.9   \n",
       "\n",
       "     distance_to_the_nearest_MRT_station  number_of_convenience_stores  \\\n",
       "287                             461.1016                             5   \n",
       "31                              769.4034                             7   \n",
       "209                             175.6294                             8   \n",
       "239                             837.7233                             0   \n",
       "47                              640.7391                             3   \n",
       "\n",
       "      latitude  longitude  fitted_value   residual  \n",
       "287  24.955773  121.53990     37.444415  -4.544415  \n",
       "31   24.982810  121.53408     42.452060 -17.452060  \n",
       "209  24.973470  121.54271     42.832291  -1.932291  \n",
       "239  24.963340  121.54767     33.059985  -3.359985  \n",
       "47   24.975630  121.53715     35.631557  25.868443  "
      ]
     },
     "execution_count": 31,
     "metadata": {},
     "output_type": "execute_result"
    }
   ],
   "source": [
    "df['fitted_value']=model.fittedvalues #Predicted Value\n",
    "df['residual']=model.resid  #Error\n",
    "df.head()"
   ]
  },
  {
   "cell_type": "code",
   "execution_count": 32,
   "id": "6e27193c",
   "metadata": {},
   "outputs": [
    {
     "data": {
      "text/plain": [
       "<AxesSubplot:title={'center':'distance_to_the_nearest_MRT_station vs house_price'}, xlabel='distance_to_the_nearest_MRT_station', ylabel='house_price'>"
      ]
     },
     "execution_count": 32,
     "metadata": {},
     "output_type": "execute_result"
    },
    {
     "data": {
      "image/png": "[encoded data removed]",
      "text/plain": [
       "<Figure size 432x288 with 1 Axes>"
      ]
     },
     "metadata": {
      "needs_background": "light"
     },
     "output_type": "display_data"
    }
   ],
   "source": [
    "df.plot.scatter(x='distance_to_the_nearest_MRT_station', y='house_price', title='distance_to_the_nearest_MRT_station vs house_price')"
   ]
  },
  {
   "cell_type": "code",
   "execution_count": 33,
   "id": "b7f874b6",
   "metadata": {},
   "outputs": [
    {
     "data": {
      "text/plain": [
       "<AxesSubplot:xlabel='fitted_value', ylabel='residual'>"
      ]
     },
     "execution_count": 33,
     "metadata": {},
     "output_type": "execute_result"
    },
    {
     "data": {
      "image/png": "[encoded data removed]",
      "text/plain": [
       "<Figure size 432x288 with 1 Axes>"
      ]
     },
     "metadata": {
      "needs_background": "light"
     },
     "output_type": "display_data"
    }
   ],
   "source": [
    "sns.scatterplot(x='fitted_value', y='residual',data=df)"
   ]
  },
  {
   "cell_type": "code",
   "execution_count": 34,
   "id": "f389dc73",
   "metadata": {},
   "outputs": [
    {
     "name": "stderr",
     "output_type": "stream",
     "text": [
      "C:\\Users\\Owner\\anaconda3\\lib\\site-packages\\statsmodels\\graphics\\gofplots.py:993: UserWarning: marker is redundantly defined by the 'marker' keyword argument and the fmt string \"bo\" (-> marker='o'). The keyword argument will take precedence.\n",
      "  ax.plot(x, y, fmt, **plot_style)\n"
     ]
    },
    {
     "data": {
      "image/png": "[encoded data removed]",
      "text/plain": [
       "<Figure size 432x288 with 1 Axes>"
      ]
     },
     "metadata": {
      "needs_background": "light"
     },
     "output_type": "display_data"
    }
   ],
   "source": [
    "import statsmodels.api as sm\n",
    "fig = sm.qqplot(df['residual'], fit=True, line='s') # s indicate standardized line\n",
    "plt.show()"
   ]
  },
  {
   "cell_type": "code",
   "execution_count": 35,
   "id": "a1288b8b",
   "metadata": {},
   "outputs": [
    {
     "data": {
      "text/plain": [
       "<AxesSubplot:ylabel='Frequency'>"
      ]
     },
     "execution_count": 35,
     "metadata": {},
     "output_type": "execute_result"
    },
    {
     "data": {
      "image/png": "[encoded data removed]",
      "text/plain": [
       "<Figure size 432x288 with 1 Axes>"
      ]
     },
     "metadata": {
      "needs_background": "light"
     },
     "output_type": "display_data"
    }
   ],
   "source": [
    "df['residual'].plot.hist()"
   ]
  },
  {
   "cell_type": "code",
   "execution_count": 36,
   "id": "0a940390",
   "metadata": {},
   "outputs": [
    {
     "data": {
      "text/html": [
       "<div>\n",
       "<style scoped>\n",
       "    .dataframe tbody tr th:only-of-type {\n",
       "        vertical-align: middle;\n",
       "    }\n",
       "\n",
       "    .dataframe tbody tr th {\n",
       "        vertical-align: top;\n",
       "    }\n",
       "\n",
       "    .dataframe thead th {\n",
       "        text-align: right;\n",
       "    }\n",
       "</style>\n",
       "<table border=\"1\" class=\"dataframe\">\n",
       "  <thead>\n",
       "    <tr style=\"text-align: right;\">\n",
       "      <th></th>\n",
       "      <th>No</th>\n",
       "      <th>transaction_date</th>\n",
       "      <th>house_age</th>\n",
       "      <th>distance_to_the_nearest_MRT_station</th>\n",
       "      <th>number_of_convenience_stores</th>\n",
       "      <th>latitude</th>\n",
       "      <th>longitude</th>\n",
       "      <th>house_price</th>\n",
       "    </tr>\n",
       "  </thead>\n",
       "  <tbody>\n",
       "    <tr>\n",
       "      <th>121</th>\n",
       "      <td>122</td>\n",
       "      <td>2013.0</td>\n",
       "      <td>13.6</td>\n",
       "      <td>492.23130</td>\n",
       "      <td>5</td>\n",
       "      <td>24.96515</td>\n",
       "      <td>121.537370</td>\n",
       "      <td>48.0</td>\n",
       "    </tr>\n",
       "    <tr>\n",
       "      <th>353</th>\n",
       "      <td>354</td>\n",
       "      <td>2013.0</td>\n",
       "      <td>4.1</td>\n",
       "      <td>2147.37600</td>\n",
       "      <td>3</td>\n",
       "      <td>24.96299</td>\n",
       "      <td>121.520475</td>\n",
       "      <td>31.3</td>\n",
       "    </tr>\n",
       "    <tr>\n",
       "      <th>96</th>\n",
       "      <td>97</td>\n",
       "      <td>2013.0</td>\n",
       "      <td>6.4</td>\n",
       "      <td>90.45606</td>\n",
       "      <td>9</td>\n",
       "      <td>24.97433</td>\n",
       "      <td>121.543100</td>\n",
       "      <td>59.5</td>\n",
       "    </tr>\n",
       "    <tr>\n",
       "      <th>43</th>\n",
       "      <td>44</td>\n",
       "      <td>2013.0</td>\n",
       "      <td>34.4</td>\n",
       "      <td>512.78710</td>\n",
       "      <td>6</td>\n",
       "      <td>24.98748</td>\n",
       "      <td>121.543010</td>\n",
       "      <td>34.1</td>\n",
       "    </tr>\n",
       "    <tr>\n",
       "      <th>125</th>\n",
       "      <td>126</td>\n",
       "      <td>2013.0</td>\n",
       "      <td>1.1</td>\n",
       "      <td>193.58450</td>\n",
       "      <td>6</td>\n",
       "      <td>24.96571</td>\n",
       "      <td>121.540890</td>\n",
       "      <td>48.6</td>\n",
       "    </tr>\n",
       "  </tbody>\n",
       "</table>\n",
       "</div>"
      ],
      "text/plain": [
       "      No  transaction_date  house_age  distance_to_the_nearest_MRT_station  \\\n",
       "121  122            2013.0       13.6                            492.23130   \n",
       "353  354            2013.0        4.1                           2147.37600   \n",
       "96    97            2013.0        6.4                             90.45606   \n",
       "43    44            2013.0       34.4                            512.78710   \n",
       "125  126            2013.0        1.1                            193.58450   \n",
       "\n",
       "     number_of_convenience_stores  latitude   longitude  house_price  \n",
       "121                             5  24.96515  121.537370         48.0  \n",
       "353                             3  24.96299  121.520475         31.3  \n",
       "96                              9  24.97433  121.543100         59.5  \n",
       "43                              6  24.98748  121.543010         34.1  \n",
       "125                             6  24.96571  121.540890         48.6  "
      ]
     },
     "execution_count": 36,
     "metadata": {},
     "output_type": "execute_result"
    }
   ],
   "source": [
    "df_test=pd.concat([X_test,Y_test],axis=1)\n",
    "\n",
    "df_test.head()"
   ]
  },
  {
   "cell_type": "code",
   "execution_count": 37,
   "id": "8fa0dc35",
   "metadata": {},
   "outputs": [
    {
     "data": {
      "text/html": [
       "<div>\n",
       "<style scoped>\n",
       "    .dataframe tbody tr th:only-of-type {\n",
       "        vertical-align: middle;\n",
       "    }\n",
       "\n",
       "    .dataframe tbody tr th {\n",
       "        vertical-align: top;\n",
       "    }\n",
       "\n",
       "    .dataframe thead th {\n",
       "        text-align: right;\n",
       "    }\n",
       "</style>\n",
       "<table border=\"1\" class=\"dataframe\">\n",
       "  <thead>\n",
       "    <tr style=\"text-align: right;\">\n",
       "      <th></th>\n",
       "      <th>No</th>\n",
       "      <th>transaction_date</th>\n",
       "      <th>house_age</th>\n",
       "      <th>distance_to_the_nearest_MRT_station</th>\n",
       "      <th>number_of_convenience_stores</th>\n",
       "      <th>latitude</th>\n",
       "      <th>longitude</th>\n",
       "      <th>house_price</th>\n",
       "      <th>Prediction</th>\n",
       "    </tr>\n",
       "  </thead>\n",
       "  <tbody>\n",
       "    <tr>\n",
       "      <th>121</th>\n",
       "      <td>122</td>\n",
       "      <td>2013.0</td>\n",
       "      <td>13.6</td>\n",
       "      <td>492.23130</td>\n",
       "      <td>5</td>\n",
       "      <td>24.96515</td>\n",
       "      <td>121.537370</td>\n",
       "      <td>48.0</td>\n",
       "      <td>41.672129</td>\n",
       "    </tr>\n",
       "    <tr>\n",
       "      <th>353</th>\n",
       "      <td>354</td>\n",
       "      <td>2013.0</td>\n",
       "      <td>4.1</td>\n",
       "      <td>2147.37600</td>\n",
       "      <td>3</td>\n",
       "      <td>24.96299</td>\n",
       "      <td>121.520475</td>\n",
       "      <td>31.3</td>\n",
       "      <td>31.434848</td>\n",
       "    </tr>\n",
       "    <tr>\n",
       "      <th>96</th>\n",
       "      <td>97</td>\n",
       "      <td>2013.0</td>\n",
       "      <td>6.4</td>\n",
       "      <td>90.45606</td>\n",
       "      <td>9</td>\n",
       "      <td>24.97433</td>\n",
       "      <td>121.543100</td>\n",
       "      <td>59.5</td>\n",
       "      <td>52.712139</td>\n",
       "    </tr>\n",
       "    <tr>\n",
       "      <th>43</th>\n",
       "      <td>44</td>\n",
       "      <td>2013.0</td>\n",
       "      <td>34.4</td>\n",
       "      <td>512.78710</td>\n",
       "      <td>6</td>\n",
       "      <td>24.98748</td>\n",
       "      <td>121.543010</td>\n",
       "      <td>34.1</td>\n",
       "      <td>43.182361</td>\n",
       "    </tr>\n",
       "    <tr>\n",
       "      <th>125</th>\n",
       "      <td>126</td>\n",
       "      <td>2013.0</td>\n",
       "      <td>1.1</td>\n",
       "      <td>193.58450</td>\n",
       "      <td>6</td>\n",
       "      <td>24.96571</td>\n",
       "      <td>121.540890</td>\n",
       "      <td>48.6</td>\n",
       "      <td>48.243144</td>\n",
       "    </tr>\n",
       "  </tbody>\n",
       "</table>\n",
       "</div>"
      ],
      "text/plain": [
       "      No  transaction_date  house_age  distance_to_the_nearest_MRT_station  \\\n",
       "121  122            2013.0       13.6                            492.23130   \n",
       "353  354            2013.0        4.1                           2147.37600   \n",
       "96    97            2013.0        6.4                             90.45606   \n",
       "43    44            2013.0       34.4                            512.78710   \n",
       "125  126            2013.0        1.1                            193.58450   \n",
       "\n",
       "     number_of_convenience_stores  latitude   longitude  house_price  \\\n",
       "121                             5  24.96515  121.537370         48.0   \n",
       "353                             3  24.96299  121.520475         31.3   \n",
       "96                              9  24.97433  121.543100         59.5   \n",
       "43                              6  24.98748  121.543010         34.1   \n",
       "125                             6  24.96571  121.540890         48.6   \n",
       "\n",
       "     Prediction  \n",
       "121   41.672129  \n",
       "353   31.434848  \n",
       "96    52.712139  \n",
       "43    43.182361  \n",
       "125   48.243144  "
      ]
     },
     "execution_count": 37,
     "metadata": {},
     "output_type": "execute_result"
    }
   ],
   "source": [
    "df_test['Prediction']=model.predict(df_test) # predict = all row prediction ( Auto )\n",
    "df_test.head()"
   ]
  },
  {
   "cell_type": "code",
   "execution_count": null,
   "id": "3113ea9d",
   "metadata": {},
   "outputs": [],
   "source": []
  }
 ],
 "metadata": {
  "kernelspec": {
   "display_name": "Python 3 (ipykernel)",
   "language": "python",
   "name": "python3"
  },
  "language_info": {
   "codemirror_mode": {
    "name": "ipython",
    "version": 3
   },
   "file_extension": ".py",
   "mimetype": "text/x-python",
   "name": "python",
   "nbconvert_exporter": "python",
   "pygments_lexer": "ipython3",
   "version": "3.9.7"
  }
 },
 "nbformat": 4,
 "nbformat_minor": 5
}
